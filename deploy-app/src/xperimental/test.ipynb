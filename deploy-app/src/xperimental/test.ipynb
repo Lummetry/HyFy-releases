{
 "cells": [
  {
   "cell_type": "code",
   "execution_count": 4,
   "metadata": {},
   "outputs": [],
   "source": [
    "import yaml\n",
    "\n",
    "d1 = {\n",
    "  'envs1' : [\n",
    "    {'e1' : 1},\n",
    "    {'e2' : 2},\n",
    "    {'e3' : 3}\n",
    "  ],\n",
    "  \n",
    "  'envs2' : {\n",
    "    'e1' : 1,\n",
    "    'e2' : 2,\n",
    "    'e3' : 3\n",
    "  }\n",
    "}\n",
    "\n",
    "\n",
    "d1\n"
   ]
  },
  {
   "cell_type": "code",
   "execution_count": 12,
   "metadata": {},
   "outputs": [
    {
     "data": {
      "text/plain": [
       "{'application': {'docker_repo': 'aixpand/exe_eng',\n",
       "  'envs': [{'name': 'staging',\n",
       "    'info': 'staging environment',\n",
       "    'version': '3.30.190'},\n",
       "   {'name': 'qa', 'info': 'qa environment', 'version': '3.30.190'},\n",
       "   {'name': 'preprod', 'info': 'preprod environment', 'version': '3.30.190'},\n",
       "   {'name': 'prod', 'info': 'prod environment', 'version': '3.30.190'}],\n",
       "  'git_repo': 'https://github.com/Lummetry/AiXp-EE.git',\n",
       "  'name': 'Execution Engine'}}"
      ]
     },
     "execution_count": 12,
     "metadata": {},
     "output_type": "execute_result"
    }
   ],
   "source": [
    "FN = 'release.yaml'\n",
    "\n",
    "with open(FN, 'r') as f:\n",
    "  d = yaml.safe_load_all(f)\n",
    "  d2 = next(d)\n",
    "d2\n",
    "  "
   ]
  },
  {
   "cell_type": "code",
   "execution_count": null,
   "metadata": {},
   "outputs": [],
   "source": []
  }
 ],
 "metadata": {
  "kernelspec": {
   "display_name": "e2_env",
   "language": "python",
   "name": "python3"
  },
  "language_info": {
   "codemirror_mode": {
    "name": "ipython",
    "version": 3
   },
   "file_extension": ".py",
   "mimetype": "text/x-python",
   "name": "python",
   "nbconvert_exporter": "python",
   "pygments_lexer": "ipython3",
   "version": "3.10.11"
  }
 },
 "nbformat": 4,
 "nbformat_minor": 2
}
